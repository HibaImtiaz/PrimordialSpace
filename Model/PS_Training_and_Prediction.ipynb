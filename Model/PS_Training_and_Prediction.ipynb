{
  "nbformat": 4,
  "nbformat_minor": 0,
  "metadata": {
    "accelerator": "GPU",
    "colab": {
      "name": "PS - Training and Prediction.ipynb",
      "provenance": [],
      "collapsed_sections": []
    },
    "kernelspec": {
      "display_name": "Python 3",
      "name": "python3"
    },
    "language_info": {
      "name": "python"
    }
  },
  "cells": [
    {
      "cell_type": "code",
      "metadata": {
        "id": "9WAIcuEnTMDs"
      },
      "source": [
        "!pip install astroNN"
      ],
      "execution_count": null,
      "outputs": []
    },
    {
      "cell_type": "code",
      "metadata": {
        "id": "Xld-CQxLS9CY"
      },
      "source": [
        "#importing required libraries\n",
        "import numpy as np\n",
        "import keras\n",
        "\n",
        "from tensorflow import keras\n",
        "from tensorflow.keras.models import Sequential\n",
        "from tensorflow.keras.callbacks import ModelCheckpoint, EarlyStopping\n",
        "from sklearn.model_selection import train_test_split\n",
        "from tensorflow.keras.layers import Dense, Conv2D, MaxPool2D , Flatten, Dropout\n",
        "from tensorflow.keras.optimizers import SGD\n",
        "from astroNN.datasets import galaxy10\n",
        "from astroNN.datasets.galaxy10 import galaxy10cls_lookup\n",
        "from sklearn.metrics import classification_report ,confusion_matrix\n",
        "from tensorflow.keras import utils"
      ],
      "execution_count": 28,
      "outputs": []
    },
    {
      "cell_type": "code",
      "metadata": {
        "id": "wWpJm8LXeEPt"
      },
      "source": [
        "def preprocess(images):\n",
        "    \"\"\" Normalize the images\n",
        "    Parameter\n",
        "    ---------\n",
        "    images : list of images\n",
        "        The images to normalize\n",
        "    Return\n",
        "    -------\n",
        "        Normalized images\n",
        "    \"\"\"\n",
        "    images = images/255\n",
        "\n",
        "    return images"
      ],
      "execution_count": 3,
      "outputs": []
    },
    {
      "cell_type": "code",
      "metadata": {
        "colab": {
          "base_uri": "https://localhost:8080/"
        },
        "id": "toQGQtBaeHjK",
        "outputId": "a37b3acd-1584-4845-d58d-53b9a93cbbf8"
      },
      "source": [
        "#loading the dataset\n",
        "images, labels = galaxy10.load_data()"
      ],
      "execution_count": 4,
      "outputs": [
        {
          "output_type": "stream",
          "text": [
            "Galaxy10.h5:  99%|█████████▉| 209M/210M [00:02<00:00, 77.2MB/s]"
          ],
          "name": "stderr"
        },
        {
          "output_type": "stream",
          "text": [
            "Downloaded Galaxy10 successfully to /root/.astroNN/datasets/Galaxy10.h5\n"
          ],
          "name": "stdout"
        },
        {
          "output_type": "stream",
          "text": [
            "\rGalaxy10.h5: 210MB [00:03, 64.9MB/s]                           \n"
          ],
          "name": "stderr"
        }
      ]
    },
    {
      "cell_type": "code",
      "metadata": {
        "id": "Z5S6664MeJvl"
      },
      "source": [
        "# To convert the labels to categorical 10 classes\n",
        "labels = utils.to_categorical(labels, 10)\n",
        "\n",
        "#converting the arrays to float type\n",
        "labels = labels.astype(np.float32)\n",
        "images = images.astype(np.float32)"
      ],
      "execution_count": 5,
      "outputs": []
    },
    {
      "cell_type": "code",
      "metadata": {
        "id": "JX8AA-jbeM0G"
      },
      "source": [
        "#normalizing images\n",
        "images = preprocess(images)"
      ],
      "execution_count": 6,
      "outputs": []
    },
    {
      "cell_type": "code",
      "metadata": {
        "id": "UfhndacSeQjU"
      },
      "source": [
        "X = images\n",
        "y = labels"
      ],
      "execution_count": 7,
      "outputs": []
    },
    {
      "cell_type": "code",
      "metadata": {
        "id": "4U-a5In0eSFA"
      },
      "source": [
        "#splitting the data into train and test data\n",
        "X_train, X_test, y_train, y_test = train_test_split(X, y, test_size=0.10, random_state=42)"
      ],
      "execution_count": 8,
      "outputs": []
    },
    {
      "cell_type": "code",
      "metadata": {
        "id": "2j2ptUv6eWx0"
      },
      "source": [
        "#building a seq2seq model\n",
        "model = Sequential()\n",
        "\n",
        "model.add(Conv2D(32, kernel_size=(3,3),activation='relu', input_shape=(69,69,3)))\n",
        "model.add(Conv2D(filters=32,kernel_size=(3,3),padding='Same',activation='relu', kernel_initializer = 'he_uniform'))\n",
        "model.add(MaxPool2D(pool_size=(2,2)))\n",
        "\n",
        "model.add(Conv2D(filters=64,kernel_size=(3,3),padding='Same',activation='relu', kernel_initializer = 'he_uniform'))\n",
        "model.add(Conv2D(filters=64,kernel_size=(3,3),padding='Same',activation='relu', kernel_initializer = 'he_uniform'))\n",
        "model.add(MaxPool2D(pool_size=(2,2)))\n",
        "\n",
        "model.add(Conv2D(filters=128,kernel_size=(3,3),padding='Same',activation='relu', kernel_initializer = 'he_uniform'))\n",
        "model.add(Conv2D(filters=128,kernel_size=(3,3),padding='Same',activation='relu', kernel_initializer = 'he_uniform'))\n",
        "model.add(MaxPool2D(pool_size=(2,2)))\n",
        "\n",
        "model.add(Conv2D(filters=128,kernel_size=(3,3),padding='Same',activation='relu', kernel_initializer = 'he_uniform'))\n",
        "model.add(Conv2D(filters=128,kernel_size=(3,3),padding='Same',activation='relu', kernel_initializer = 'he_uniform'))\n",
        "model.add(MaxPool2D(pool_size=(2,2)))\n",
        "\n",
        "model.add(Conv2D(filters=256,kernel_size=(3,3),padding='Same',activation='relu', kernel_initializer = 'he_uniform'))\n",
        "model.add(Conv2D(filters=256,kernel_size=(3,3),padding='Same',activation='relu', kernel_initializer = 'he_uniform'))\n",
        "model.add(Conv2D(filters=256,kernel_size=(3,3),padding='Same',activation='relu', kernel_initializer = 'he_uniform'))\n",
        "model.add(MaxPool2D(pool_size=(2,2),strides=(2,2)))\n",
        "\n",
        "model.add(Flatten())\n",
        "model.add(Dense(128, activation='relu', kernel_initializer = 'he_uniform'))\n",
        "model.add(Dense(128, activation='relu', kernel_initializer = 'he_uniform'))\n",
        "model.add(Dense(10, activation='softmax'))\n",
        "\n",
        "#defining the batch sizes and epochs\n",
        "batch_size = 64\n",
        "epochs = 60\n",
        "opt = SGD()"
      ],
      "execution_count": 30,
      "outputs": []
    },
    {
      "cell_type": "code",
      "metadata": {
        "id": "ZBE8PtIljS7H"
      },
      "source": [
        "model.compile(optimizer=opt, loss='categorical_crossentropy', metrics=['accuracy'])"
      ],
      "execution_count": 31,
      "outputs": []
    },
    {
      "cell_type": "code",
      "metadata": {
        "id": "zyXph9sphGPk"
      },
      "source": [
        "early_stop= EarlyStopping(monitor='val_loss',patience=2)"
      ],
      "execution_count": 32,
      "outputs": []
    },
    {
      "cell_type": "code",
      "metadata": {
        "colab": {
          "base_uri": "https://localhost:8080/"
        },
        "id": "ClvHtLv4g9aM",
        "outputId": "0bea0f70-6981-470d-c00a-8641ab22180b"
      },
      "source": [
        "model.summary()"
      ],
      "execution_count": 33,
      "outputs": [
        {
          "output_type": "stream",
          "text": [
            "Model: \"sequential_6\"\n",
            "_________________________________________________________________\n",
            "Layer (type)                 Output Shape              Param #   \n",
            "=================================================================\n",
            "conv2d_66 (Conv2D)           (None, 67, 67, 32)        896       \n",
            "_________________________________________________________________\n",
            "conv2d_67 (Conv2D)           (None, 67, 67, 32)        9248      \n",
            "_________________________________________________________________\n",
            "max_pooling2d_30 (MaxPooling (None, 33, 33, 32)        0         \n",
            "_________________________________________________________________\n",
            "conv2d_68 (Conv2D)           (None, 33, 33, 64)        18496     \n",
            "_________________________________________________________________\n",
            "conv2d_69 (Conv2D)           (None, 33, 33, 64)        36928     \n",
            "_________________________________________________________________\n",
            "max_pooling2d_31 (MaxPooling (None, 16, 16, 64)        0         \n",
            "_________________________________________________________________\n",
            "conv2d_70 (Conv2D)           (None, 16, 16, 128)       73856     \n",
            "_________________________________________________________________\n",
            "conv2d_71 (Conv2D)           (None, 16, 16, 128)       147584    \n",
            "_________________________________________________________________\n",
            "max_pooling2d_32 (MaxPooling (None, 8, 8, 128)         0         \n",
            "_________________________________________________________________\n",
            "conv2d_72 (Conv2D)           (None, 8, 8, 128)         147584    \n",
            "_________________________________________________________________\n",
            "conv2d_73 (Conv2D)           (None, 8, 8, 128)         147584    \n",
            "_________________________________________________________________\n",
            "max_pooling2d_33 (MaxPooling (None, 4, 4, 128)         0         \n",
            "_________________________________________________________________\n",
            "conv2d_74 (Conv2D)           (None, 4, 4, 256)         295168    \n",
            "_________________________________________________________________\n",
            "conv2d_75 (Conv2D)           (None, 4, 4, 256)         590080    \n",
            "_________________________________________________________________\n",
            "conv2d_76 (Conv2D)           (None, 4, 4, 256)         590080    \n",
            "_________________________________________________________________\n",
            "max_pooling2d_34 (MaxPooling (None, 2, 2, 256)         0         \n",
            "_________________________________________________________________\n",
            "flatten_6 (Flatten)          (None, 1024)              0         \n",
            "_________________________________________________________________\n",
            "dense_20 (Dense)             (None, 128)               131200    \n",
            "_________________________________________________________________\n",
            "dense_21 (Dense)             (None, 128)               16512     \n",
            "_________________________________________________________________\n",
            "dense_22 (Dense)             (None, 10)                1290      \n",
            "=================================================================\n",
            "Total params: 2,206,506\n",
            "Trainable params: 2,206,506\n",
            "Non-trainable params: 0\n",
            "_________________________________________________________________\n"
          ],
          "name": "stdout"
        }
      ]
    },
    {
      "cell_type": "code",
      "metadata": {
        "colab": {
          "base_uri": "https://localhost:8080/"
        },
        "id": "aDJH-rQChJOo",
        "outputId": "a0187994-26c5-4d02-c2ed-247a62a615de"
      },
      "source": [
        "#training the model\n",
        "history = model.fit(X_train, y_train, batch_size=batch_size, epochs=epochs, verbose=1, validation_data=(X_test, y_test))"
      ],
      "execution_count": 34,
      "outputs": [
        {
          "output_type": "stream",
          "text": [
            "Epoch 1/60\n",
            "307/307 [==============================] - 11s 32ms/step - loss: 1.7717 - accuracy: 0.3303 - val_loss: 2.4651 - val_accuracy: 0.3034\n",
            "Epoch 2/60\n",
            "307/307 [==============================] - 10s 32ms/step - loss: 1.4782 - accuracy: 0.4386 - val_loss: 1.1277 - val_accuracy: 0.5833\n",
            "Epoch 3/60\n",
            "307/307 [==============================] - 10s 31ms/step - loss: 1.1695 - accuracy: 0.5680 - val_loss: 1.1663 - val_accuracy: 0.5879\n",
            "Epoch 4/60\n",
            "307/307 [==============================] - 10s 31ms/step - loss: 1.0036 - accuracy: 0.6301 - val_loss: 1.3544 - val_accuracy: 0.4608\n",
            "Epoch 5/60\n",
            "307/307 [==============================] - 10s 31ms/step - loss: 0.9228 - accuracy: 0.6537 - val_loss: 1.0695 - val_accuracy: 0.6370\n",
            "Epoch 6/60\n",
            "307/307 [==============================] - 9s 31ms/step - loss: 0.8373 - accuracy: 0.6909 - val_loss: 0.9069 - val_accuracy: 0.6673\n",
            "Epoch 7/60\n",
            "307/307 [==============================] - 9s 31ms/step - loss: 0.8221 - accuracy: 0.6950 - val_loss: 0.8231 - val_accuracy: 0.6971\n",
            "Epoch 8/60\n",
            "307/307 [==============================] - 9s 31ms/step - loss: 0.7562 - accuracy: 0.7196 - val_loss: 1.0225 - val_accuracy: 0.6590\n",
            "Epoch 9/60\n",
            "307/307 [==============================] - 10s 31ms/step - loss: 0.7344 - accuracy: 0.7301 - val_loss: 0.8368 - val_accuracy: 0.6976\n",
            "Epoch 10/60\n",
            "307/307 [==============================] - 10s 31ms/step - loss: 0.6690 - accuracy: 0.7518 - val_loss: 0.8249 - val_accuracy: 0.6856\n",
            "Epoch 11/60\n",
            "307/307 [==============================] - 10s 31ms/step - loss: 0.6472 - accuracy: 0.7587 - val_loss: 1.8086 - val_accuracy: 0.4185\n",
            "Epoch 12/60\n",
            "307/307 [==============================] - 10s 31ms/step - loss: 0.6393 - accuracy: 0.7657 - val_loss: 0.8738 - val_accuracy: 0.6884\n",
            "Epoch 13/60\n",
            "307/307 [==============================] - 10s 31ms/step - loss: 0.5716 - accuracy: 0.7887 - val_loss: 0.7428 - val_accuracy: 0.7251\n",
            "Epoch 14/60\n",
            "307/307 [==============================] - 10s 31ms/step - loss: 0.5376 - accuracy: 0.8032 - val_loss: 0.7302 - val_accuracy: 0.7260\n",
            "Epoch 15/60\n",
            "307/307 [==============================] - 10s 31ms/step - loss: 0.5245 - accuracy: 0.8070 - val_loss: 1.2328 - val_accuracy: 0.5168\n",
            "Epoch 16/60\n",
            "307/307 [==============================] - 10s 31ms/step - loss: 0.5123 - accuracy: 0.8099 - val_loss: 0.7060 - val_accuracy: 0.7357\n",
            "Epoch 17/60\n",
            "307/307 [==============================] - 10s 31ms/step - loss: 0.4815 - accuracy: 0.8222 - val_loss: 0.8702 - val_accuracy: 0.7012\n",
            "Epoch 18/60\n",
            "307/307 [==============================] - 10s 31ms/step - loss: 0.4464 - accuracy: 0.8404 - val_loss: 0.8592 - val_accuracy: 0.6966\n",
            "Epoch 19/60\n",
            "307/307 [==============================] - 10s 31ms/step - loss: 0.4079 - accuracy: 0.8519 - val_loss: 0.8000 - val_accuracy: 0.7425\n",
            "Epoch 20/60\n",
            "307/307 [==============================] - 10s 31ms/step - loss: 0.3983 - accuracy: 0.8561 - val_loss: 0.7937 - val_accuracy: 0.7279\n",
            "Epoch 21/60\n",
            "307/307 [==============================] - 10s 31ms/step - loss: 0.3802 - accuracy: 0.8653 - val_loss: 1.0829 - val_accuracy: 0.7063\n",
            "Epoch 22/60\n",
            "307/307 [==============================] - 10s 31ms/step - loss: 0.3574 - accuracy: 0.8690 - val_loss: 0.8541 - val_accuracy: 0.7471\n",
            "Epoch 23/60\n",
            "307/307 [==============================] - 10s 31ms/step - loss: 0.3232 - accuracy: 0.8785 - val_loss: 0.9121 - val_accuracy: 0.7219\n",
            "Epoch 24/60\n",
            "307/307 [==============================] - 10s 31ms/step - loss: 0.3286 - accuracy: 0.8853 - val_loss: 0.7773 - val_accuracy: 0.7508\n",
            "Epoch 25/60\n",
            "307/307 [==============================] - 10s 31ms/step - loss: 0.2718 - accuracy: 0.9025 - val_loss: 1.4370 - val_accuracy: 0.5324\n",
            "Epoch 26/60\n",
            "307/307 [==============================] - 10s 31ms/step - loss: 0.2820 - accuracy: 0.8996 - val_loss: 1.3738 - val_accuracy: 0.6264\n",
            "Epoch 27/60\n",
            "307/307 [==============================] - 10s 31ms/step - loss: 0.2627 - accuracy: 0.9076 - val_loss: 1.8050 - val_accuracy: 0.5668\n",
            "Epoch 28/60\n",
            "307/307 [==============================] - 10s 31ms/step - loss: 0.2546 - accuracy: 0.9146 - val_loss: 0.9210 - val_accuracy: 0.7306\n",
            "Epoch 29/60\n",
            "307/307 [==============================] - 10s 31ms/step - loss: 0.2149 - accuracy: 0.9219 - val_loss: 1.0526 - val_accuracy: 0.7040\n",
            "Epoch 30/60\n",
            "307/307 [==============================] - 9s 31ms/step - loss: 0.1798 - accuracy: 0.9346 - val_loss: 0.9016 - val_accuracy: 0.7485\n",
            "Epoch 31/60\n",
            "307/307 [==============================] - 9s 31ms/step - loss: 0.1576 - accuracy: 0.9452 - val_loss: 1.0177 - val_accuracy: 0.7435\n",
            "Epoch 32/60\n",
            "307/307 [==============================] - 10s 31ms/step - loss: 0.1776 - accuracy: 0.9367 - val_loss: 1.0278 - val_accuracy: 0.7609\n",
            "Epoch 33/60\n",
            "307/307 [==============================] - 10s 31ms/step - loss: 0.1451 - accuracy: 0.9476 - val_loss: 1.1640 - val_accuracy: 0.7458\n",
            "Epoch 34/60\n",
            "307/307 [==============================] - 10s 31ms/step - loss: 0.1194 - accuracy: 0.9577 - val_loss: 1.0604 - val_accuracy: 0.7210\n",
            "Epoch 35/60\n",
            "307/307 [==============================] - 10s 31ms/step - loss: 0.1462 - accuracy: 0.9473 - val_loss: 1.0425 - val_accuracy: 0.7513\n",
            "Epoch 36/60\n",
            "307/307 [==============================] - 10s 31ms/step - loss: 0.1386 - accuracy: 0.9508 - val_loss: 0.8548 - val_accuracy: 0.7435\n",
            "Epoch 37/60\n",
            "307/307 [==============================] - 10s 31ms/step - loss: 0.1125 - accuracy: 0.9609 - val_loss: 1.0328 - val_accuracy: 0.7710\n",
            "Epoch 38/60\n",
            "307/307 [==============================] - 10s 31ms/step - loss: 0.0746 - accuracy: 0.9753 - val_loss: 1.0966 - val_accuracy: 0.7439\n",
            "Epoch 39/60\n",
            "307/307 [==============================] - 10s 31ms/step - loss: 0.1469 - accuracy: 0.9515 - val_loss: 1.1174 - val_accuracy: 0.7517\n",
            "Epoch 40/60\n",
            "307/307 [==============================] - 10s 31ms/step - loss: 0.0799 - accuracy: 0.9723 - val_loss: 1.3521 - val_accuracy: 0.7568\n",
            "Epoch 41/60\n",
            "307/307 [==============================] - 10s 31ms/step - loss: 0.0897 - accuracy: 0.9690 - val_loss: 1.7124 - val_accuracy: 0.6283\n",
            "Epoch 42/60\n",
            "307/307 [==============================] - 10s 31ms/step - loss: 0.0884 - accuracy: 0.9683 - val_loss: 1.1445 - val_accuracy: 0.7568\n",
            "Epoch 43/60\n",
            "307/307 [==============================] - 10s 31ms/step - loss: 0.0577 - accuracy: 0.9808 - val_loss: 1.4287 - val_accuracy: 0.7182\n",
            "Epoch 44/60\n",
            "307/307 [==============================] - 10s 31ms/step - loss: 0.0745 - accuracy: 0.9749 - val_loss: 1.1319 - val_accuracy: 0.7292\n",
            "Epoch 45/60\n",
            "307/307 [==============================] - 10s 31ms/step - loss: 0.0450 - accuracy: 0.9854 - val_loss: 1.2487 - val_accuracy: 0.7554\n",
            "Epoch 46/60\n",
            "307/307 [==============================] - 10s 31ms/step - loss: 0.0460 - accuracy: 0.9844 - val_loss: 1.2718 - val_accuracy: 0.7623\n",
            "Epoch 47/60\n",
            "307/307 [==============================] - 10s 31ms/step - loss: 0.0407 - accuracy: 0.9878 - val_loss: 1.3851 - val_accuracy: 0.7715\n",
            "Epoch 48/60\n",
            "307/307 [==============================] - 10s 31ms/step - loss: 0.0290 - accuracy: 0.9919 - val_loss: 1.3301 - val_accuracy: 0.7329\n",
            "Epoch 49/60\n",
            "307/307 [==============================] - 10s 31ms/step - loss: 0.0630 - accuracy: 0.9789 - val_loss: 1.2912 - val_accuracy: 0.7765\n",
            "Epoch 50/60\n",
            "307/307 [==============================] - 10s 31ms/step - loss: 0.0326 - accuracy: 0.9903 - val_loss: 1.7428 - val_accuracy: 0.6283\n",
            "Epoch 51/60\n",
            "307/307 [==============================] - 10s 31ms/step - loss: 0.0772 - accuracy: 0.9760 - val_loss: 1.3100 - val_accuracy: 0.7384\n",
            "Epoch 52/60\n",
            "307/307 [==============================] - 10s 31ms/step - loss: 0.0260 - accuracy: 0.9930 - val_loss: 1.5362 - val_accuracy: 0.7508\n",
            "Epoch 53/60\n",
            "307/307 [==============================] - 10s 31ms/step - loss: 0.0473 - accuracy: 0.9845 - val_loss: 1.3361 - val_accuracy: 0.7559\n",
            "Epoch 54/60\n",
            "307/307 [==============================] - 10s 31ms/step - loss: 0.0320 - accuracy: 0.9905 - val_loss: 1.3993 - val_accuracy: 0.7627\n",
            "Epoch 55/60\n",
            "307/307 [==============================] - 10s 31ms/step - loss: 0.0419 - accuracy: 0.9880 - val_loss: 1.8961 - val_accuracy: 0.7168\n",
            "Epoch 56/60\n",
            "307/307 [==============================] - 10s 31ms/step - loss: 0.0459 - accuracy: 0.9870 - val_loss: 1.2513 - val_accuracy: 0.7595\n",
            "Epoch 57/60\n",
            "307/307 [==============================] - 10s 31ms/step - loss: 0.0691 - accuracy: 0.9788 - val_loss: 1.4281 - val_accuracy: 0.7632\n",
            "Epoch 58/60\n",
            "307/307 [==============================] - 10s 31ms/step - loss: 0.0074 - accuracy: 0.9983 - val_loss: 1.6466 - val_accuracy: 0.7659\n",
            "Epoch 59/60\n",
            "307/307 [==============================] - 10s 31ms/step - loss: 0.0019 - accuracy: 0.9996 - val_loss: 1.6854 - val_accuracy: 0.7696\n",
            "Epoch 60/60\n",
            "307/307 [==============================] - 10s 31ms/step - loss: 0.0028 - accuracy: 0.9997 - val_loss: 1.7637 - val_accuracy: 0.7760\n"
          ],
          "name": "stdout"
        }
      ]
    },
    {
      "cell_type": "code",
      "metadata": {
        "id": "6mLPP1SGCcUK"
      },
      "source": [
        "#saving the model\n",
        "model.save(\"astroNN2.h5\")"
      ],
      "execution_count": 35,
      "outputs": []
    },
    {
      "cell_type": "code",
      "metadata": {
        "colab": {
          "base_uri": "https://localhost:8080/"
        },
        "id": "2Sj0B-yLp1n8",
        "outputId": "e49db2e7-60f7-433e-d25c-60afceeabf67"
      },
      "source": [
        "#evaluating model over test dataset\n",
        "model.evaluate(X_test, y_test)"
      ],
      "execution_count": 36,
      "outputs": [
        {
          "output_type": "stream",
          "text": [
            "69/69 [==============================] - 1s 7ms/step - loss: 1.7637 - accuracy: 0.7760\n"
          ],
          "name": "stdout"
        },
        {
          "output_type": "execute_result",
          "data": {
            "text/plain": [
              "[1.7636834383010864, 0.7760440707206726]"
            ]
          },
          "metadata": {
            "tags": []
          },
          "execution_count": 36
        }
      ]
    },
    {
      "cell_type": "markdown",
      "metadata": {
        "id": "8XOaEoqaGqVf"
      },
      "source": [
        "#Prediction"
      ]
    },
    {
      "cell_type": "code",
      "metadata": {
        "colab": {
          "base_uri": "https://localhost:8080/"
        },
        "id": "TnJt-2pQpP2F",
        "outputId": "613fdc29-b418-4477-ed7d-123df7554295"
      },
      "source": [
        "#displaying the predictions along with the actual values\n",
        "for i in range(10):\n",
        "\n",
        "    img = images[i]\n",
        "\n",
        "    img = np.expand_dims(img,0) # <--- add batch axis\n",
        "    #print(img.shape)\n",
        "    output = model.predict(img)\n",
        "    #print(output[0])\n",
        "    predictedClass = np.argmax(output[0])\n",
        "\n",
        "    print(\"\\nPredicted: \",galaxy10cls_lookup(predictedClass))\n",
        "    print(\"Actual: \",galaxy10cls_lookup(np.argmax(labels[i])))\n",
        "    print(\"-------------------------------------------------------------------------------------------------------------------------------------------\")"
      ],
      "execution_count": 37,
      "outputs": [
        {
          "output_type": "stream",
          "text": [
            "\n",
            "Predicted:  Smooth, in-between round\n",
            "Actual:  Smooth, in-between round\n",
            "-------------------------------------------------------------------------------------------------------------------------------------------\n",
            "\n",
            "Predicted:  Smooth, in-between round\n",
            "Actual:  Smooth, in-between round\n",
            "-------------------------------------------------------------------------------------------------------------------------------------------\n",
            "\n",
            "Predicted:  Disk, Edge-on, Rounded Bulge\n",
            "Actual:  Disk, Edge-on, Rounded Bulge\n",
            "-------------------------------------------------------------------------------------------------------------------------------------------\n",
            "\n",
            "Predicted:  Smooth, in-between round\n",
            "Actual:  Smooth, in-between round\n",
            "-------------------------------------------------------------------------------------------------------------------------------------------\n",
            "\n",
            "Predicted:  Disk, Edge-on, Rounded Bulge\n",
            "Actual:  Disk, Edge-on, Rounded Bulge\n",
            "-------------------------------------------------------------------------------------------------------------------------------------------\n",
            "\n",
            "Predicted:  Smooth, Completely round\n",
            "Actual:  Smooth, Completely round\n",
            "-------------------------------------------------------------------------------------------------------------------------------------------\n",
            "\n",
            "Predicted:  Smooth, Completely round\n",
            "Actual:  Smooth, Completely round\n",
            "-------------------------------------------------------------------------------------------------------------------------------------------\n",
            "\n",
            "Predicted:  Smooth, Completely round\n",
            "Actual:  Smooth, Completely round\n",
            "-------------------------------------------------------------------------------------------------------------------------------------------\n",
            "\n",
            "Predicted:  Smooth, Completely round\n",
            "Actual:  Smooth, Completely round\n",
            "-------------------------------------------------------------------------------------------------------------------------------------------\n",
            "\n",
            "Predicted:  Disk, Face-on, Tight Spiral\n",
            "Actual:  Disk, Face-on, Tight Spiral\n",
            "-------------------------------------------------------------------------------------------------------------------------------------------\n"
          ],
          "name": "stdout"
        }
      ]
    },
    {
      "cell_type": "markdown",
      "metadata": {
        "id": "qU8wxlgnGiYd"
      },
      "source": [
        "#Classification Report and Confusion Matrix"
      ]
    },
    {
      "cell_type": "code",
      "metadata": {
        "colab": {
          "base_uri": "https://localhost:8080/"
        },
        "id": "f-6khIk1HGpW",
        "outputId": "ea72da07-f988-4038-e982-ba4a586e2c1b"
      },
      "source": [
        "#displaying classification report\n",
        "y_pred=model.predict_classes(X_test)\n",
        "y_pred\n",
        "\n",
        "#converting the one-hot encoded labels back\n",
        "rounded_labels=np.argmax(y_test, axis=1)\n",
        "\n",
        "print('Classification Report')\n",
        "print(classification_report(rounded_labels,y_pred))"
      ],
      "execution_count": 38,
      "outputs": [
        {
          "output_type": "stream",
          "text": [
            "/usr/local/lib/python3.7/dist-packages/tensorflow/python/keras/engine/sequential.py:450: UserWarning: `model.predict_classes()` is deprecated and will be removed after 2021-01-01. Please use instead:* `np.argmax(model.predict(x), axis=-1)`,   if your model does multi-class classification   (e.g. if it uses a `softmax` last-layer activation).* `(model.predict(x) > 0.5).astype(\"int32\")`,   if your model does binary classification   (e.g. if it uses a `sigmoid` last-layer activation).\n",
            "  warnings.warn('`model.predict_classes()` is deprecated and '\n"
          ],
          "name": "stderr"
        },
        {
          "output_type": "stream",
          "text": [
            "Classification Report\n",
            "              precision    recall  f1-score   support\n",
            "\n",
            "           0       0.56      0.52      0.54       360\n",
            "           1       0.90      0.93      0.91       703\n",
            "           2       0.84      0.89      0.86       599\n",
            "           3       0.47      0.40      0.43        35\n",
            "           4       0.83      0.87      0.85       151\n",
            "           5       0.00      0.00      0.00         3\n",
            "           6       0.77      0.77      0.77        64\n",
            "           7       0.51      0.44      0.48       126\n",
            "           8       0.54      0.42      0.47        90\n",
            "           9       0.62      0.60      0.61        48\n",
            "\n",
            "    accuracy                           0.78      2179\n",
            "   macro avg       0.60      0.58      0.59      2179\n",
            "weighted avg       0.76      0.78      0.77      2179\n",
            "\n"
          ],
          "name": "stdout"
        },
        {
          "output_type": "stream",
          "text": [
            "/usr/local/lib/python3.7/dist-packages/sklearn/metrics/_classification.py:1272: UndefinedMetricWarning: Precision and F-score are ill-defined and being set to 0.0 in labels with no predicted samples. Use `zero_division` parameter to control this behavior.\n",
            "  _warn_prf(average, modifier, msg_start, len(result))\n"
          ],
          "name": "stderr"
        }
      ]
    },
    {
      "cell_type": "code",
      "metadata": {
        "colab": {
          "base_uri": "https://localhost:8080/"
        },
        "id": "nEJUDPG2RFqc",
        "outputId": "1e49131b-422a-4dbb-ab1d-dff9aabdeff9"
      },
      "source": [
        "#displaying confusion matrix\n",
        "print('Confusion Matrix')\n",
        "print(confusion_matrix(rounded_labels,y_pred))"
      ],
      "execution_count": 39,
      "outputs": [
        {
          "output_type": "stream",
          "text": [
            "Confusion Matrix\n",
            "[[188  47  60   5   4   0   1  28  16  11]\n",
            " [ 23 654  21   0   0   0   0   5   0   0]\n",
            " [ 38  20 532   0   1   0   0   5   2   1]\n",
            " [  5   0   3  14   4   0   8   0   0   1]\n",
            " [  3   1   5   4 131   0   6   0   0   1]\n",
            " [  0   0   0   0   3   0   0   0   0   0]\n",
            " [  0   0   0   4  11   0  49   0   0   0]\n",
            " [ 35   5  14   2   1   0   0  56  12   1]\n",
            " [ 32   0   2   0   0   0   0  15  38   3]\n",
            " [ 11   2   0   1   2   0   0   0   3  29]]\n"
          ],
          "name": "stdout"
        }
      ]
    }
  ]
}