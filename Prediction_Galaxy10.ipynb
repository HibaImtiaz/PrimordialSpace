{
  "nbformat": 4,
  "nbformat_minor": 0,
  "metadata": {
    "accelerator": "GPU",
    "colab": {
      "name": "Copy of Prediction - Galaxy.ipynb",
      "provenance": [],
      "collapsed_sections": [],
      "authorship_tag": "ABX9TyPAXwCmOKgMOdZWuL0E6uKw"
    },
    "kernelspec": {
      "display_name": "Python 3",
      "name": "python3"
    },
    "language_info": {
      "name": "python"
    }
  },
  "cells": [
    {
      "cell_type": "code",
      "metadata": {
        "id": "9WAIcuEnTMDs"
      },
      "source": [
        "!pip install astroNN"
      ],
      "execution_count": null,
      "outputs": []
    },
    {
      "cell_type": "code",
      "metadata": {
        "id": "Xld-CQxLS9CY"
      },
      "source": [
        "#importing required libraries\n",
        "import numpy as np\n",
        "import keras\n",
        "\n",
        "from keras.models import Sequential\n",
        "from keras.callbacks import ModelCheckpoint, EarlyStopping\n",
        "from sklearn.model_selection import train_test_split\n",
        "from keras.layers import Dense, Conv2D, MaxPool2D , Flatten, Dropout\n",
        "from keras.optimizers import Adam\n",
        "from astroNN.datasets import galaxy10\n",
        "from astroNN.datasets.galaxy10 import galaxy10cls_lookup\n",
        "from sklearn.metrics import classification_report ,confusion_matrix\n",
        "from tensorflow.keras import utils"
      ],
      "execution_count": null,
      "outputs": []
    },
    {
      "cell_type": "code",
      "metadata": {
        "id": "wWpJm8LXeEPt"
      },
      "source": [
        "def preprocess(images):\n",
        "    \"\"\" Normalize the images\n",
        "    Parameter\n",
        "    ---------\n",
        "    images : list of images\n",
        "        The images to normalize\n",
        "    Return\n",
        "    -------\n",
        "        Normalized images\n",
        "    \"\"\"\n",
        "    images = images/255\n",
        "\n",
        "    return images"
      ],
      "execution_count": 4,
      "outputs": []
    },
    {
      "cell_type": "code",
      "metadata": {
        "colab": {
          "base_uri": "https://localhost:8080/"
        },
        "id": "toQGQtBaeHjK",
        "outputId": "6fd79e45-1ced-405d-9450-729889291976"
      },
      "source": [
        "#loading the dataset\n",
        "images, labels = galaxy10.load_data()"
      ],
      "execution_count": 5,
      "outputs": [
        {
          "output_type": "stream",
          "text": [
            "Galaxy10.h5:  94%|█████████▍| 199M/210M [00:02<00:00, 97.9MB/s]"
          ],
          "name": "stderr"
        },
        {
          "output_type": "stream",
          "text": [
            "Downloaded Galaxy10 successfully to /root/.astroNN/datasets/Galaxy10.h5\n"
          ],
          "name": "stdout"
        },
        {
          "output_type": "stream",
          "text": [
            "\rGalaxy10.h5: 210MB [00:02, 72.1MB/s]                           \n"
          ],
          "name": "stderr"
        }
      ]
    },
    {
      "cell_type": "code",
      "metadata": {
        "id": "Z5S6664MeJvl"
      },
      "source": [
        "# To convert the labels to categorical 10 classes\n",
        "labels = utils.to_categorical(labels, 10)\n",
        "\n",
        "#converting the arrays to float type\n",
        "labels = labels.astype(np.float32)\n",
        "images = images.astype(np.float32)"
      ],
      "execution_count": 5,
      "outputs": []
    },
    {
      "cell_type": "code",
      "metadata": {
        "id": "JX8AA-jbeM0G"
      },
      "source": [
        "#normalizing images\n",
        "images = preprocess(images)"
      ],
      "execution_count": 6,
      "outputs": []
    },
    {
      "cell_type": "code",
      "metadata": {
        "id": "UfhndacSeQjU"
      },
      "source": [
        "X = images\n",
        "y = labels"
      ],
      "execution_count": 8,
      "outputs": []
    },
    {
      "cell_type": "code",
      "metadata": {
        "id": "4U-a5In0eSFA"
      },
      "source": [
        "#splitting the data into train and test data\n",
        "X_train, X_test, y_train, y_test = train_test_split(X, y, test_size=0.10, random_state=42)"
      ],
      "execution_count": 9,
      "outputs": []
    },
    {
      "cell_type": "code",
      "metadata": {
        "id": "2j2ptUv6eWx0"
      },
      "source": [
        "#building a seq2seq model\n",
        "model = Sequential()\n",
        "\n",
        "model.add(Conv2D(32, kernel_size=(3,3),activation='relu', input_shape=(69,69,3)))\n",
        "model.add(Conv2D(filters=32,kernel_size=(3,3),padding='Same',activation='relu', kernel_initializer = 'he_uniform'))\n",
        "model.add(MaxPool2D(pool_size=(2,2)))\n",
        "\n",
        "model.add(Conv2D(filters=64,kernel_size=(3,3),padding='Same',activation='relu', kernel_initializer = 'he_uniform'))\n",
        "model.add(Conv2D(filters=64,kernel_size=(3,3),padding='Same',activation='relu', kernel_initializer = 'he_uniform'))\n",
        "model.add(MaxPool2D(pool_size=(2,2)))\n",
        "\n",
        "model.add(Conv2D(filters=128,kernel_size=(3,3),padding='Same',activation='relu', kernel_initializer = 'he_uniform'))\n",
        "model.add(Conv2D(filters=128,kernel_size=(3,3),padding='Same',activation='relu', kernel_initializer = 'he_uniform'))\n",
        "model.add(MaxPool2D(pool_size=(2,2)))\n",
        "\n",
        "model.add(Conv2D(filters=128,kernel_size=(3,3),padding='Same',activation='relu', kernel_initializer = 'he_uniform'))\n",
        "model.add(Conv2D(filters=128,kernel_size=(3,3),padding='Same',activation='relu', kernel_initializer = 'he_uniform'))\n",
        "model.add(MaxPool2D(pool_size=(2,2)))\n",
        "\n",
        "model.add(Conv2D(filters=256,kernel_size=(3,3),padding='Same',activation='relu', kernel_initializer = 'he_uniform'))\n",
        "model.add(Conv2D(filters=256,kernel_size=(3,3),padding='Same',activation='relu', kernel_initializer = 'he_uniform'))\n",
        "model.add(Conv2D(filters=256,kernel_size=(3,3),padding='Same',activation='relu', kernel_initializer = 'he_uniform'))\n",
        "model.add(MaxPool2D(pool_size=(2,2),strides=(2,2)))\n",
        "\n",
        "model.add(Flatten())\n",
        "model.add(Dense(128, activation='relu', kernel_initializer = 'he_uniform'))\n",
        "model.add(Dense(128, activation='relu', kernel_initializer = 'he_uniform'))\n",
        "model.add(Dense(128, activation='relu', kernel_initializer = 'he_uniform'))\n",
        "model.add(Dropout(0.5))\n",
        "model.add(Dense(10, activation='softmax'))\n",
        "\n",
        "#defining the batch sizes and epochs\n",
        "batch_size = 32\n",
        "epochs = 30"
      ],
      "execution_count": 16,
      "outputs": []
    },
    {
      "cell_type": "code",
      "metadata": {
        "id": "ZBE8PtIljS7H"
      },
      "source": [
        "model.compile(optimizer='rmsprop', loss='categorical_crossentropy', metrics=['accuracy'])"
      ],
      "execution_count": 17,
      "outputs": []
    },
    {
      "cell_type": "code",
      "metadata": {
        "id": "zyXph9sphGPk"
      },
      "source": [
        "early_stop= EarlyStopping(monitor='val_loss',patience=2)"
      ],
      "execution_count": 18,
      "outputs": []
    },
    {
      "cell_type": "code",
      "metadata": {
        "colab": {
          "base_uri": "https://localhost:8080/"
        },
        "id": "ClvHtLv4g9aM",
        "outputId": "ecc50d12-ab41-4284-8d0a-4e7e968a138d"
      },
      "source": [
        "model.summary()"
      ],
      "execution_count": 19,
      "outputs": [
        {
          "output_type": "stream",
          "text": [
            "Model: \"sequential_1\"\n",
            "_________________________________________________________________\n",
            "Layer (type)                 Output Shape              Param #   \n",
            "=================================================================\n",
            "conv2d_11 (Conv2D)           (None, 67, 67, 32)        896       \n",
            "_________________________________________________________________\n",
            "conv2d_12 (Conv2D)           (None, 67, 67, 32)        9248      \n",
            "_________________________________________________________________\n",
            "max_pooling2d_5 (MaxPooling2 (None, 33, 33, 32)        0         \n",
            "_________________________________________________________________\n",
            "conv2d_13 (Conv2D)           (None, 33, 33, 64)        18496     \n",
            "_________________________________________________________________\n",
            "conv2d_14 (Conv2D)           (None, 33, 33, 64)        36928     \n",
            "_________________________________________________________________\n",
            "max_pooling2d_6 (MaxPooling2 (None, 16, 16, 64)        0         \n",
            "_________________________________________________________________\n",
            "conv2d_15 (Conv2D)           (None, 16, 16, 128)       73856     \n",
            "_________________________________________________________________\n",
            "conv2d_16 (Conv2D)           (None, 16, 16, 128)       147584    \n",
            "_________________________________________________________________\n",
            "max_pooling2d_7 (MaxPooling2 (None, 8, 8, 128)         0         \n",
            "_________________________________________________________________\n",
            "conv2d_17 (Conv2D)           (None, 8, 8, 128)         147584    \n",
            "_________________________________________________________________\n",
            "conv2d_18 (Conv2D)           (None, 8, 8, 128)         147584    \n",
            "_________________________________________________________________\n",
            "max_pooling2d_8 (MaxPooling2 (None, 4, 4, 128)         0         \n",
            "_________________________________________________________________\n",
            "conv2d_19 (Conv2D)           (None, 4, 4, 256)         295168    \n",
            "_________________________________________________________________\n",
            "conv2d_20 (Conv2D)           (None, 4, 4, 256)         590080    \n",
            "_________________________________________________________________\n",
            "conv2d_21 (Conv2D)           (None, 4, 4, 256)         590080    \n",
            "_________________________________________________________________\n",
            "max_pooling2d_9 (MaxPooling2 (None, 2, 2, 256)         0         \n",
            "_________________________________________________________________\n",
            "flatten_1 (Flatten)          (None, 1024)              0         \n",
            "_________________________________________________________________\n",
            "dense_2 (Dense)              (None, 128)               131200    \n",
            "_________________________________________________________________\n",
            "dense_3 (Dense)              (None, 128)               16512     \n",
            "_________________________________________________________________\n",
            "dense_4 (Dense)              (None, 128)               16512     \n",
            "_________________________________________________________________\n",
            "dropout_1 (Dropout)          (None, 128)               0         \n",
            "_________________________________________________________________\n",
            "dense_5 (Dense)              (None, 10)                1290      \n",
            "=================================================================\n",
            "Total params: 2,223,018\n",
            "Trainable params: 2,223,018\n",
            "Non-trainable params: 0\n",
            "_________________________________________________________________\n"
          ],
          "name": "stdout"
        }
      ]
    },
    {
      "cell_type": "code",
      "metadata": {
        "colab": {
          "base_uri": "https://localhost:8080/"
        },
        "id": "aDJH-rQChJOo",
        "outputId": "e241aeeb-5f44-4b5a-b703-eecc84566cab"
      },
      "source": [
        "#training the model\n",
        "history = model.fit(X_train, y_train, batch_size=batch_size, epochs=epochs, verbose=1, validation_data=(X_test, y_test))"
      ],
      "execution_count": 20,
      "outputs": [
        {
          "output_type": "stream",
          "text": [
            "Epoch 1/30\n",
            "613/613 [==============================] - 14s 20ms/step - loss: 1.9429 - accuracy: 0.3063 - val_loss: 1.3012 - val_accuracy: 0.3809\n",
            "Epoch 2/30\n",
            "613/613 [==============================] - 12s 20ms/step - loss: 1.2850 - accuracy: 0.4712 - val_loss: 1.0636 - val_accuracy: 0.5737\n",
            "Epoch 3/30\n",
            "613/613 [==============================] - 12s 20ms/step - loss: 0.9457 - accuracy: 0.6603 - val_loss: 1.1737 - val_accuracy: 0.6145\n",
            "Epoch 4/30\n",
            "613/613 [==============================] - 12s 20ms/step - loss: 0.8305 - accuracy: 0.7152 - val_loss: 0.8352 - val_accuracy: 0.7159\n",
            "Epoch 5/30\n",
            "613/613 [==============================] - 12s 20ms/step - loss: 0.7886 - accuracy: 0.7286 - val_loss: 0.7613 - val_accuracy: 0.7352\n",
            "Epoch 6/30\n",
            "613/613 [==============================] - 12s 20ms/step - loss: 0.7803 - accuracy: 0.7394 - val_loss: 0.7231 - val_accuracy: 0.7559\n",
            "Epoch 7/30\n",
            "613/613 [==============================] - 12s 20ms/step - loss: 0.7522 - accuracy: 0.7484 - val_loss: 0.8142 - val_accuracy: 0.7627\n",
            "Epoch 8/30\n",
            "613/613 [==============================] - 12s 20ms/step - loss: 1.6202 - accuracy: 0.7641 - val_loss: 0.7660 - val_accuracy: 0.7692\n",
            "Epoch 9/30\n",
            "613/613 [==============================] - 12s 20ms/step - loss: 0.7677 - accuracy: 0.7587 - val_loss: 0.9579 - val_accuracy: 0.6774\n",
            "Epoch 10/30\n",
            "613/613 [==============================] - 12s 20ms/step - loss: 0.7489 - accuracy: 0.7564 - val_loss: 0.7663 - val_accuracy: 0.7260\n",
            "Epoch 11/30\n",
            "613/613 [==============================] - 12s 20ms/step - loss: 0.7419 - accuracy: 0.7559 - val_loss: 1.0203 - val_accuracy: 0.6310\n",
            "Epoch 12/30\n",
            "613/613 [==============================] - 12s 20ms/step - loss: 0.7815 - accuracy: 0.7384 - val_loss: 0.7420 - val_accuracy: 0.7375\n",
            "Epoch 13/30\n",
            "613/613 [==============================] - 12s 20ms/step - loss: 0.7528 - accuracy: 0.7512 - val_loss: 1.1267 - val_accuracy: 0.5737\n",
            "Epoch 14/30\n",
            "613/613 [==============================] - 12s 20ms/step - loss: 0.8119 - accuracy: 0.7393 - val_loss: 0.7651 - val_accuracy: 0.7265\n",
            "Epoch 15/30\n",
            "613/613 [==============================] - 12s 20ms/step - loss: 397.7005 - accuracy: 0.7470 - val_loss: 0.8193 - val_accuracy: 0.7416\n",
            "Epoch 16/30\n",
            "613/613 [==============================] - 12s 20ms/step - loss: 0.8596 - accuracy: 0.7397 - val_loss: 1.0004 - val_accuracy: 0.7384\n",
            "Epoch 17/30\n",
            "613/613 [==============================] - 12s 20ms/step - loss: 2.0274 - accuracy: 0.7250 - val_loss: 0.8802 - val_accuracy: 0.7214\n",
            "Epoch 18/30\n",
            "613/613 [==============================] - 12s 20ms/step - loss: 0.8261 - accuracy: 0.7372 - val_loss: 0.9459 - val_accuracy: 0.6590\n",
            "Epoch 19/30\n",
            "613/613 [==============================] - 12s 20ms/step - loss: 0.8776 - accuracy: 0.7368 - val_loss: 1.2530 - val_accuracy: 0.5865\n",
            "Epoch 20/30\n",
            "613/613 [==============================] - 12s 20ms/step - loss: 0.8339 - accuracy: 0.7389 - val_loss: 1.3228 - val_accuracy: 0.6274\n",
            "Epoch 21/30\n",
            "613/613 [==============================] - 12s 20ms/step - loss: 0.8364 - accuracy: 0.7315 - val_loss: 0.8285 - val_accuracy: 0.7168\n",
            "Epoch 22/30\n",
            "613/613 [==============================] - 12s 20ms/step - loss: 0.9284 - accuracy: 0.7173 - val_loss: 0.7790 - val_accuracy: 0.7297\n",
            "Epoch 23/30\n",
            "613/613 [==============================] - 12s 20ms/step - loss: 7.7956 - accuracy: 0.7272 - val_loss: 0.8285 - val_accuracy: 0.7145\n",
            "Epoch 24/30\n",
            "613/613 [==============================] - 12s 20ms/step - loss: 1.3664 - accuracy: 0.7029 - val_loss: 0.7957 - val_accuracy: 0.7503\n",
            "Epoch 25/30\n",
            "613/613 [==============================] - 12s 20ms/step - loss: 0.8935 - accuracy: 0.7293 - val_loss: 0.8951 - val_accuracy: 0.7324\n",
            "Epoch 26/30\n",
            "613/613 [==============================] - 12s 20ms/step - loss: 0.8302 - accuracy: 0.7316 - val_loss: 0.8228 - val_accuracy: 0.7343\n",
            "Epoch 27/30\n",
            "613/613 [==============================] - 12s 20ms/step - loss: 0.9436 - accuracy: 0.7363 - val_loss: 0.8052 - val_accuracy: 0.7228\n",
            "Epoch 28/30\n",
            "613/613 [==============================] - 12s 20ms/step - loss: 0.8592 - accuracy: 0.7319 - val_loss: 0.7894 - val_accuracy: 0.7664\n",
            "Epoch 29/30\n",
            "613/613 [==============================] - 12s 20ms/step - loss: 0.8565 - accuracy: 0.7241 - val_loss: 0.8500 - val_accuracy: 0.7357\n",
            "Epoch 30/30\n",
            "613/613 [==============================] - 12s 20ms/step - loss: 0.8321 - accuracy: 0.7354 - val_loss: 0.8931 - val_accuracy: 0.7223\n"
          ],
          "name": "stdout"
        }
      ]
    },
    {
      "cell_type": "code",
      "metadata": {
        "colab": {
          "base_uri": "https://localhost:8080/"
        },
        "id": "2Sj0B-yLp1n8",
        "outputId": "83449ffd-bf65-4654-9d44-27ebd8696200"
      },
      "source": [
        "#evaluating model over test dataset\n",
        "model.evaluate(X_test, y_test)"
      ],
      "execution_count": 21,
      "outputs": [
        {
          "output_type": "stream",
          "text": [
            "69/69 [==============================] - 1s 7ms/step - loss: 0.8931 - accuracy: 0.7223\n"
          ],
          "name": "stdout"
        },
        {
          "output_type": "execute_result",
          "data": {
            "text/plain": [
              "[0.8931226134300232, 0.7223497033119202]"
            ]
          },
          "metadata": {
            "tags": []
          },
          "execution_count": 21
        }
      ]
    },
    {
      "cell_type": "code",
      "metadata": {
        "id": "6mLPP1SGCcUK"
      },
      "source": [
        "#saving the model\n",
        "model.save(\"galaxy.h5\")"
      ],
      "execution_count": 22,
      "outputs": []
    },
    {
      "cell_type": "code",
      "metadata": {
        "colab": {
          "base_uri": "https://localhost:8080/"
        },
        "id": "f-6khIk1HGpW",
        "outputId": "387b42fe-eb0d-42ee-cbed-28a49ead593e"
      },
      "source": [
        "#displaying classification report\n",
        "y_pred=model.predict_classes(X_test)\n",
        "y_pred\n",
        "\n",
        "#converting the one-hot encoded labels back\n",
        "rounded_labels=np.argmax(y_test, axis=1)\n",
        "\n",
        "print('Classification Report')\n",
        "print(classification_report(rounded_labels,y_pred))"
      ],
      "execution_count": 38,
      "outputs": [
        {
          "output_type": "stream",
          "text": [
            "/usr/local/lib/python3.7/dist-packages/tensorflow/python/keras/engine/sequential.py:450: UserWarning: `model.predict_classes()` is deprecated and will be removed after 2021-01-01. Please use instead:* `np.argmax(model.predict(x), axis=-1)`,   if your model does multi-class classification   (e.g. if it uses a `softmax` last-layer activation).* `(model.predict(x) > 0.5).astype(\"int32\")`,   if your model does binary classification   (e.g. if it uses a `sigmoid` last-layer activation).\n",
            "  warnings.warn('`model.predict_classes()` is deprecated and '\n"
          ],
          "name": "stderr"
        },
        {
          "output_type": "stream",
          "text": [
            "Classification Report\n",
            "              precision    recall  f1-score   support\n",
            "\n",
            "           0       0.47      0.32      0.38       360\n",
            "           1       0.84      0.96      0.89       703\n",
            "           2       0.73      0.92      0.82       599\n",
            "           3       0.00      0.00      0.00        35\n",
            "           4       0.60      0.94      0.73       151\n",
            "           5       0.00      0.00      0.00         3\n",
            "           6       0.88      0.33      0.48        64\n",
            "           7       0.92      0.10      0.17       126\n",
            "           8       0.55      0.38      0.45        90\n",
            "           9       0.61      0.42      0.49        48\n",
            "\n",
            "    accuracy                           0.72      2179\n",
            "   macro avg       0.56      0.44      0.44      2179\n",
            "weighted avg       0.71      0.72      0.68      2179\n",
            "\n"
          ],
          "name": "stdout"
        },
        {
          "output_type": "stream",
          "text": [
            "/usr/local/lib/python3.7/dist-packages/sklearn/metrics/_classification.py:1272: UndefinedMetricWarning: Precision and F-score are ill-defined and being set to 0.0 in labels with no predicted samples. Use `zero_division` parameter to control this behavior.\n",
            "  _warn_prf(average, modifier, msg_start, len(result))\n"
          ],
          "name": "stderr"
        }
      ]
    },
    {
      "cell_type": "code",
      "metadata": {
        "colab": {
          "base_uri": "https://localhost:8080/"
        },
        "id": "nEJUDPG2RFqc",
        "outputId": "2772455a-0773-4622-c476-65f924520e8d"
      },
      "source": [
        "#displaying confusion matrix\n",
        "print('Confusion Matrix')\n",
        "print(confusion_matrix(rounded_labels,y_pred))"
      ],
      "execution_count": 39,
      "outputs": [
        {
          "output_type": "stream",
          "text": [
            "Confusion Matrix\n",
            "[[116  77 143   0  10   0   0   0  12   2]\n",
            " [  5 676  22   0   0   0   0   0   0   0]\n",
            " [  5  39 553   0   2   0   0   0   0   0]\n",
            " [  2   0   2   0  31   0   0   0   0   0]\n",
            " [  1   0   5   0 142   0   3   0   0   0]\n",
            " [  0   0   0   0   3   0   0   0   0   0]\n",
            " [  1   0   0   0  42   0  21   0   0   0]\n",
            " [ 64  11  25   0   2   0   0  12  11   1]\n",
            " [ 36   3   5   0   1   0   0   1  34  10]\n",
            " [ 16   2   2   0   3   0   0   0   5  20]]\n"
          ],
          "name": "stdout"
        }
      ]
    },
    {
      "cell_type": "code",
      "metadata": {
        "colab": {
          "base_uri": "https://localhost:8080/"
        },
        "id": "TnJt-2pQpP2F",
        "outputId": "430300a1-d97d-4033-cc59-4122eb490483"
      },
      "source": [
        "#displaying the predictions along with the actual values\n",
        "for i in range(10):\n",
        "\n",
        "    img = images[i]\n",
        "\n",
        "    img = np.expand_dims(img,0) # <--- add batch axis\n",
        "    #print(img.shape)\n",
        "    output = model.predict(img)\n",
        "    #print(output[0])\n",
        "    predictedClass = np.argmax(output[0])\n",
        "\n",
        "    print(\"\\nPredicted: \",galaxy10cls_lookup(predictedClass))\n",
        "    print(\"Actual: \",galaxy10cls_lookup(np.argmax(labels[i])))\n",
        "    print(\"-------------------------------------------------------------------------------------------------------------------------------------------\")"
      ],
      "execution_count": 32,
      "outputs": [
        {
          "output_type": "stream",
          "text": [
            "\n",
            "Predicted:  Smooth, in-between round\n",
            "Actual:  Smooth, in-between round\n",
            "-------------------------------------------------------------------------------------------------------------------------------------------\n",
            "\n",
            "Predicted:  Smooth, in-between round\n",
            "Actual:  Smooth, in-between round\n",
            "-------------------------------------------------------------------------------------------------------------------------------------------\n",
            "\n",
            "Predicted:  Disk, Edge-on, Rounded Bulge\n",
            "Actual:  Disk, Edge-on, Rounded Bulge\n",
            "-------------------------------------------------------------------------------------------------------------------------------------------\n",
            "\n",
            "Predicted:  Smooth, in-between round\n",
            "Actual:  Smooth, in-between round\n",
            "-------------------------------------------------------------------------------------------------------------------------------------------\n",
            "\n",
            "Predicted:  Disk, Edge-on, Rounded Bulge\n",
            "Actual:  Disk, Edge-on, Rounded Bulge\n",
            "-------------------------------------------------------------------------------------------------------------------------------------------\n",
            "\n",
            "Predicted:  Smooth, Completely round\n",
            "Actual:  Smooth, Completely round\n",
            "-------------------------------------------------------------------------------------------------------------------------------------------\n",
            "\n",
            "Predicted:  Smooth, Completely round\n",
            "Actual:  Smooth, Completely round\n",
            "-------------------------------------------------------------------------------------------------------------------------------------------\n",
            "\n",
            "Predicted:  Smooth, Completely round\n",
            "Actual:  Smooth, Completely round\n",
            "-------------------------------------------------------------------------------------------------------------------------------------------\n",
            "\n",
            "Predicted:  Smooth, Completely round\n",
            "Actual:  Smooth, Completely round\n",
            "-------------------------------------------------------------------------------------------------------------------------------------------\n",
            "\n",
            "Predicted:  Smooth, in-between round\n",
            "Actual:  Disk, Face-on, Tight Spiral\n",
            "-------------------------------------------------------------------------------------------------------------------------------------------\n"
          ],
          "name": "stdout"
        }
      ]
    }
  ]
}