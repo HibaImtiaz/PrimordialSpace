{
  "nbformat": 4,
  "nbformat_minor": 0,
  "metadata": {
    "colab": {
      "name": "Data Pre-processing - Galaxy",
      "provenance": [],
      "authorship_tag": "ABX9TyNeUzqbzwpQxQ8ItLM8qLGl"
    },
    "kernelspec": {
      "name": "python3",
      "display_name": "Python 3"
    }
  },
  "cells": [
    {
      "cell_type": "code",
      "metadata": {
        "id": "YPbw79-PtObu"
      },
      "source": [
        "!pip install astroNN"
      ],
      "execution_count": null,
      "outputs": []
    },
    {
      "cell_type": "code",
      "metadata": {
        "id": "KG4wPjhoZOpI"
      },
      "source": [
        "import numpy as np\n",
        "import pylab as plt\n",
        "import cv2\n",
        "\n",
        "from tensorflow.keras import utils\n",
        "from astroNN.datasets import galaxy10\n",
        "from tensorflow.keras.utils import to_categorical\n",
        "from astroNN.datasets.galaxy10 import galaxy10cls_lookup"
      ],
      "execution_count": 42,
      "outputs": []
    },
    {
      "cell_type": "code",
      "metadata": {
        "id": "AoY6ZNZEZnBY",
        "colab": {
          "base_uri": "https://localhost:8080/"
        },
        "outputId": "10d577f7-1af9-40a8-ef2f-ace38f62b611"
      },
      "source": [
        "#loading the dataset\n",
        "images, labels = galaxy10.load_data()"
      ],
      "execution_count": 43,
      "outputs": [
        {
          "output_type": "stream",
          "text": [
            "/root/.astroNN/datasets/Galaxy10.h5 was found!\n"
          ],
          "name": "stdout"
        }
      ]
    },
    {
      "cell_type": "code",
      "metadata": {
        "id": "s8cJPAOqZr5r"
      },
      "source": [
        "#converting the labels to categorical 10 classes\n",
        "labels_cat = utils.to_categorical(labels, 10)"
      ],
      "execution_count": 44,
      "outputs": []
    },
    {
      "cell_type": "code",
      "metadata": {
        "colab": {
          "base_uri": "https://localhost:8080/"
        },
        "id": "YhxJeZ8mZul2",
        "outputId": "8b727ff9-6c6a-4d84-8711-ff2033bae081"
      },
      "source": [
        "labels_cat"
      ],
      "execution_count": 45,
      "outputs": [
        {
          "output_type": "execute_result",
          "data": {
            "text/plain": [
              "array([[0., 0., 1., ..., 0., 0., 0.],\n",
              "       [0., 0., 1., ..., 0., 0., 0.],\n",
              "       [0., 0., 0., ..., 0., 0., 0.],\n",
              "       ...,\n",
              "       [0., 0., 1., ..., 0., 0., 0.],\n",
              "       [0., 0., 0., ..., 0., 0., 1.],\n",
              "       [0., 0., 1., ..., 0., 0., 0.]], dtype=float32)"
            ]
          },
          "metadata": {
            "tags": []
          },
          "execution_count": 45
        }
      ]
    },
    {
      "cell_type": "code",
      "metadata": {
        "id": "Jmb92QmfgL8X",
        "colab": {
          "base_uri": "https://localhost:8080/"
        },
        "outputId": "b697bc43-189a-4e4d-ae46-36c2a497a106"
      },
      "source": [
        "labels"
      ],
      "execution_count": 46,
      "outputs": [
        {
          "output_type": "execute_result",
          "data": {
            "text/plain": [
              "array([2, 2, 4, ..., 2, 9, 2], dtype=uint8)"
            ]
          },
          "metadata": {
            "tags": []
          },
          "execution_count": 46
        }
      ]
    },
    {
      "cell_type": "code",
      "metadata": {
        "id": "8zaN0KN8Z_9Q"
      },
      "source": [
        "images"
      ],
      "execution_count": null,
      "outputs": []
    },
    {
      "cell_type": "code",
      "metadata": {
        "id": "NvHrs6UhJDRd"
      },
      "source": [
        "#converting images from RGB to Grayscale\n",
        "gr_images = []\n",
        "for im in images:\n",
        "  img_gray = cv2.cvtColor(im, cv2.COLOR_BGR2GRAY)\n",
        "  gray = cv2.cvtColor(img_gray, cv2.IMREAD_GRAYSCALE)\n",
        "  gr_images.append(gray)"
      ],
      "execution_count": 48,
      "outputs": []
    },
    {
      "cell_type": "code",
      "metadata": {
        "id": "ajfCTvM9NYZh"
      },
      "source": [
        "#converting the list to array\n",
        "im_arr = np.array(gr_images)"
      ],
      "execution_count": 49,
      "outputs": []
    },
    {
      "cell_type": "code",
      "metadata": {
        "id": "4VdDIIJeNcQr"
      },
      "source": [
        "im_arr"
      ],
      "execution_count": null,
      "outputs": []
    },
    {
      "cell_type": "code",
      "metadata": {
        "colab": {
          "base_uri": "https://localhost:8080/",
          "height": 285
        },
        "id": "Dvn0P4_kNfdy",
        "outputId": "898c3a9f-092f-45c3-a16e-c7a2ad77bc12"
      },
      "source": [
        "plt.imshow(im_arr[1000])"
      ],
      "execution_count": 51,
      "outputs": [
        {
          "output_type": "execute_result",
          "data": {
            "text/plain": [
              "<matplotlib.image.AxesImage at 0x7fb764176610>"
            ]
          },
          "metadata": {
            "tags": []
          },
          "execution_count": 51
        },
        {
          "output_type": "display_data",
          "data": {
            "image/png": "[encoded data removed]",
            "text/plain": [
              "<Figure size 432x288 with 1 Axes>"
            ]
          },
          "metadata": {
            "tags": [],
            "needs_background": "light"
          }
        }
      ]
    },
    {
      "cell_type": "code",
      "metadata": {
        "colab": {
          "base_uri": "https://localhost:8080/"
        },
        "id": "rj2bGs3-Nh01",
        "outputId": "8beccd33-6ab6-4af6-a062-4af414e18b12"
      },
      "source": [
        "im_arr.shape"
      ],
      "execution_count": 52,
      "outputs": [
        {
          "output_type": "execute_result",
          "data": {
            "text/plain": [
              "(21785, 69, 69, 4)"
            ]
          },
          "metadata": {
            "tags": []
          },
          "execution_count": 52
        }
      ]
    },
    {
      "cell_type": "code",
      "metadata": {
        "id": "4yRzZ723Xvlz"
      },
      "source": [
        "#normalizing the images\n",
        "im_arr_scaled = im_arr/255"
      ],
      "execution_count": 53,
      "outputs": []
    },
    {
      "cell_type": "code",
      "metadata": {
        "colab": {
          "base_uri": "https://localhost:8080/"
        },
        "id": "RRvTyJDJYG4t",
        "outputId": "06e55d5b-21f3-4fa9-a77a-4efb3c97df50"
      },
      "source": [
        "im_arr_scaled"
      ],
      "execution_count": 59,
      "outputs": [
        {
          "output_type": "execute_result",
          "data": {
            "text/plain": [
              "array([[[[0.06666667, 0.06666667, 0.06666667, 1.        ],\n",
              "         [0.07058824, 0.07058824, 0.07058824, 1.        ],\n",
              "         [0.05882353, 0.05882353, 0.05882353, 1.        ],\n",
              "         ...,\n",
              "         [0.01960784, 0.01960784, 0.01960784, 1.        ],\n",
              "         [0.03137255, 0.03137255, 0.03137255, 1.        ],\n",
              "         [0.01960784, 0.01960784, 0.01960784, 1.        ]],\n",
              "\n",
              "        [[0.08627451, 0.08627451, 0.08627451, 1.        ],\n",
              "         [0.09019608, 0.09019608, 0.09019608, 1.        ],\n",
              "         [0.0627451 , 0.0627451 , 0.0627451 , 1.        ],\n",
              "         ...,\n",
              "         [0.01960784, 0.01960784, 0.01960784, 1.        ],\n",
              "         [0.03137255, 0.03137255, 0.03137255, 1.        ],\n",
              "         [0.01960784, 0.01960784, 0.01960784, 1.        ]],\n",
              "\n",
              "        [[0.07843137, 0.07843137, 0.07843137, 1.        ],\n",
              "         [0.08627451, 0.08627451, 0.08627451, 1.        ],\n",
              "         [0.0627451 , 0.0627451 , 0.0627451 , 1.        ],\n",
              "         ...,\n",
              "         [0.01568627, 0.01568627, 0.01568627, 1.        ],\n",
              "         [0.03137255, 0.03137255, 0.03137255, 1.        ],\n",
              "         [0.02352941, 0.02352941, 0.02352941, 1.        ]],\n",
              "\n",
              "        ...,\n",
              "\n",
              "        [[0.04705882, 0.04705882, 0.04705882, 1.        ],\n",
              "         [0.05882353, 0.05882353, 0.05882353, 1.        ],\n",
              "         [0.04705882, 0.04705882, 0.04705882, 1.        ],\n",
              "         ...,\n",
              "         [0.01176471, 0.01176471, 0.01176471, 1.        ],\n",
              "         [0.01176471, 0.01176471, 0.01176471, 1.        ],\n",
              "         [0.01960784, 0.01960784, 0.01960784, 1.        ]],\n",
              "\n",
              "        [[0.05490196, 0.05490196, 0.05490196, 1.        ],\n",
              "         [0.05098039, 0.05098039, 0.05098039, 1.        ],\n",
              "         [0.03137255, 0.03137255, 0.03137255, 1.        ],\n",
              "         ...,\n",
              "         [0.01960784, 0.01960784, 0.01960784, 1.        ],\n",
              "         [0.02745098, 0.02745098, 0.02745098, 1.        ],\n",
              "         [0.03137255, 0.03137255, 0.03137255, 1.        ]],\n",
              "\n",
              "        [[0.05490196, 0.05490196, 0.05490196, 1.        ],\n",
              "         [0.05490196, 0.05490196, 0.05490196, 1.        ],\n",
              "         [0.03529412, 0.03529412, 0.03529412, 1.        ],\n",
              "         ...,\n",
              "         [0.03137255, 0.03137255, 0.03137255, 1.        ],\n",
              "         [0.04313725, 0.04313725, 0.04313725, 1.        ],\n",
              "         [0.04705882, 0.04705882, 0.04705882, 1.        ]]],\n",
              "\n",
              "\n",
              "       [[[0.00784314, 0.00784314, 0.00784314, 1.        ],\n",
              "         [0.00392157, 0.00392157, 0.00392157, 1.        ],\n",
              "         [0.00392157, 0.00392157, 0.00392157, 1.        ],\n",
              "         ...,\n",
              "         [0.02352941, 0.02352941, 0.02352941, 1.        ],\n",
              "         [0.01568627, 0.01568627, 0.01568627, 1.        ],\n",
              "         [0.01960784, 0.01960784, 0.01960784, 1.        ]],\n",
              "\n",
              "        [[0.00392157, 0.00392157, 0.00392157, 1.        ],\n",
              "         [0.00392157, 0.00392157, 0.00392157, 1.        ],\n",
              "         [0.        , 0.        , 0.        , 1.        ],\n",
              "         ...,\n",
              "         [0.01960784, 0.01960784, 0.01960784, 1.        ],\n",
              "         [0.01568627, 0.01568627, 0.01568627, 1.        ],\n",
              "         [0.01960784, 0.01960784, 0.01960784, 1.        ]],\n",
              "\n",
              "        [[0.00784314, 0.00784314, 0.00784314, 1.        ],\n",
              "         [0.00392157, 0.00392157, 0.00392157, 1.        ],\n",
              "         [0.        , 0.        , 0.        , 1.        ],\n",
              "         ...,\n",
              "         [0.00784314, 0.00784314, 0.00784314, 1.        ],\n",
              "         [0.01176471, 0.01176471, 0.01176471, 1.        ],\n",
              "         [0.01176471, 0.01176471, 0.01176471, 1.        ]],\n",
              "\n",
              "        ...,\n",
              "\n",
              "        [[0.02352941, 0.02352941, 0.02352941, 1.        ],\n",
              "         [0.02352941, 0.02352941, 0.02352941, 1.        ],\n",
              "         [0.01568627, 0.01568627, 0.01568627, 1.        ],\n",
              "         ...,\n",
              "         [0.01176471, 0.01176471, 0.01176471, 1.        ],\n",
              "         [0.00784314, 0.00784314, 0.00784314, 1.        ],\n",
              "         [0.00784314, 0.00784314, 0.00784314, 1.        ]],\n",
              "\n",
              "        [[0.01960784, 0.01960784, 0.01960784, 1.        ],\n",
              "         [0.01568627, 0.01568627, 0.01568627, 1.        ],\n",
              "         [0.01176471, 0.01176471, 0.01176471, 1.        ],\n",
              "         ...,\n",
              "         [0.00784314, 0.00784314, 0.00784314, 1.        ],\n",
              "         [0.00392157, 0.00392157, 0.00392157, 1.        ],\n",
              "         [0.00784314, 0.00784314, 0.00784314, 1.        ]],\n",
              "\n",
              "        [[0.01176471, 0.01176471, 0.01176471, 1.        ],\n",
              "         [0.00392157, 0.00392157, 0.00392157, 1.        ],\n",
              "         [0.00784314, 0.00784314, 0.00784314, 1.        ],\n",
              "         ...,\n",
              "         [0.00784314, 0.00784314, 0.00784314, 1.        ],\n",
              "         [0.01176471, 0.01176471, 0.01176471, 1.        ],\n",
              "         [0.01176471, 0.01176471, 0.01176471, 1.        ]]],\n",
              "\n",
              "\n",
              "       [[[0.03529412, 0.03529412, 0.03529412, 1.        ],\n",
              "         [0.01568627, 0.01568627, 0.01568627, 1.        ],\n",
              "         [0.01176471, 0.01176471, 0.01176471, 1.        ],\n",
              "         ...,\n",
              "         [0.00784314, 0.00784314, 0.00784314, 1.        ],\n",
              "         [0.00392157, 0.00392157, 0.00392157, 1.        ],\n",
              "         [0.        , 0.        , 0.        , 1.        ]],\n",
              "\n",
              "        [[0.01568627, 0.01568627, 0.01568627, 1.        ],\n",
              "         [0.01960784, 0.01960784, 0.01960784, 1.        ],\n",
              "         [0.01176471, 0.01176471, 0.01176471, 1.        ],\n",
              "         ...,\n",
              "         [0.01960784, 0.01960784, 0.01960784, 1.        ],\n",
              "         [0.00784314, 0.00784314, 0.00784314, 1.        ],\n",
              "         [0.00392157, 0.00392157, 0.00392157, 1.        ]],\n",
              "\n",
              "        [[0.00784314, 0.00784314, 0.00784314, 1.        ],\n",
              "         [0.00784314, 0.00784314, 0.00784314, 1.        ],\n",
              "         [0.00392157, 0.00392157, 0.00392157, 1.        ],\n",
              "         ...,\n",
              "         [0.02745098, 0.02745098, 0.02745098, 1.        ],\n",
              "         [0.01960784, 0.01960784, 0.01960784, 1.        ],\n",
              "         [0.01176471, 0.01176471, 0.01176471, 1.        ]],\n",
              "\n",
              "        ...,\n",
              "\n",
              "        [[0.01568627, 0.01568627, 0.01568627, 1.        ],\n",
              "         [0.00784314, 0.00784314, 0.00784314, 1.        ],\n",
              "         [0.00392157, 0.00392157, 0.00392157, 1.        ],\n",
              "         ...,\n",
              "         [0.00392157, 0.00392157, 0.00392157, 1.        ],\n",
              "         [0.00392157, 0.00392157, 0.00392157, 1.        ],\n",
              "         [0.00392157, 0.00392157, 0.00392157, 1.        ]],\n",
              "\n",
              "        [[0.01960784, 0.01960784, 0.01960784, 1.        ],\n",
              "         [0.01568627, 0.01568627, 0.01568627, 1.        ],\n",
              "         [0.01568627, 0.01568627, 0.01568627, 1.        ],\n",
              "         ...,\n",
              "         [0.00784314, 0.00784314, 0.00784314, 1.        ],\n",
              "         [0.00392157, 0.00392157, 0.00392157, 1.        ],\n",
              "         [0.        , 0.        , 0.        , 1.        ]],\n",
              "\n",
              "        [[0.01568627, 0.01568627, 0.01568627, 1.        ],\n",
              "         [0.01960784, 0.01960784, 0.01960784, 1.        ],\n",
              "         [0.03529412, 0.03529412, 0.03529412, 1.        ],\n",
              "         ...,\n",
              "         [0.02352941, 0.02352941, 0.02352941, 1.        ],\n",
              "         [0.01176471, 0.01176471, 0.01176471, 1.        ],\n",
              "         [0.00392157, 0.00392157, 0.00392157, 1.        ]]],\n",
              "\n",
              "\n",
              "       ...,\n",
              "\n",
              "\n",
              "       [[[0.02352941, 0.02352941, 0.02352941, 1.        ],\n",
              "         [0.03137255, 0.03137255, 0.03137255, 1.        ],\n",
              "         [0.03137255, 0.03137255, 0.03137255, 1.        ],\n",
              "         ...,\n",
              "         [0.01176471, 0.01176471, 0.01176471, 1.        ],\n",
              "         [0.03137255, 0.03137255, 0.03137255, 1.        ],\n",
              "         [0.03529412, 0.03529412, 0.03529412, 1.        ]],\n",
              "\n",
              "        [[0.02352941, 0.02352941, 0.02352941, 1.        ],\n",
              "         [0.01568627, 0.01568627, 0.01568627, 1.        ],\n",
              "         [0.02745098, 0.02745098, 0.02745098, 1.        ],\n",
              "         ...,\n",
              "         [0.03137255, 0.03137255, 0.03137255, 1.        ],\n",
              "         [0.01568627, 0.01568627, 0.01568627, 1.        ],\n",
              "         [0.01960784, 0.01960784, 0.01960784, 1.        ]],\n",
              "\n",
              "        [[0.01960784, 0.01960784, 0.01960784, 1.        ],\n",
              "         [0.00784314, 0.00784314, 0.00784314, 1.        ],\n",
              "         [0.00784314, 0.00784314, 0.00784314, 1.        ],\n",
              "         ...,\n",
              "         [0.03137255, 0.03137255, 0.03137255, 1.        ],\n",
              "         [0.01960784, 0.01960784, 0.01960784, 1.        ],\n",
              "         [0.01960784, 0.01960784, 0.01960784, 1.        ]],\n",
              "\n",
              "        ...,\n",
              "\n",
              "        [[0.01568627, 0.01568627, 0.01568627, 1.        ],\n",
              "         [0.03529412, 0.03529412, 0.03529412, 1.        ],\n",
              "         [0.04313725, 0.04313725, 0.04313725, 1.        ],\n",
              "         ...,\n",
              "         [0.01568627, 0.01568627, 0.01568627, 1.        ],\n",
              "         [0.00784314, 0.00784314, 0.00784314, 1.        ],\n",
              "         [0.00784314, 0.00784314, 0.00784314, 1.        ]],\n",
              "\n",
              "        [[0.01176471, 0.01176471, 0.01176471, 1.        ],\n",
              "         [0.02352941, 0.02352941, 0.02352941, 1.        ],\n",
              "         [0.02352941, 0.02352941, 0.02352941, 1.        ],\n",
              "         ...,\n",
              "         [0.01568627, 0.01568627, 0.01568627, 1.        ],\n",
              "         [0.00784314, 0.00784314, 0.00784314, 1.        ],\n",
              "         [0.01568627, 0.01568627, 0.01568627, 1.        ]],\n",
              "\n",
              "        [[0.01568627, 0.01568627, 0.01568627, 1.        ],\n",
              "         [0.01176471, 0.01176471, 0.01176471, 1.        ],\n",
              "         [0.00784314, 0.00784314, 0.00784314, 1.        ],\n",
              "         ...,\n",
              "         [0.01568627, 0.01568627, 0.01568627, 1.        ],\n",
              "         [0.00784314, 0.00784314, 0.00784314, 1.        ],\n",
              "         [0.01176471, 0.01176471, 0.01176471, 1.        ]]],\n",
              "\n",
              "\n",
              "       [[[0.01568627, 0.01568627, 0.01568627, 1.        ],\n",
              "         [0.03137255, 0.03137255, 0.03137255, 1.        ],\n",
              "         [0.02352941, 0.02352941, 0.02352941, 1.        ],\n",
              "         ...,\n",
              "         [0.04705882, 0.04705882, 0.04705882, 1.        ],\n",
              "         [0.01960784, 0.01960784, 0.01960784, 1.        ],\n",
              "         [0.02352941, 0.02352941, 0.02352941, 1.        ]],\n",
              "\n",
              "        [[0.01960784, 0.01960784, 0.01960784, 1.        ],\n",
              "         [0.02352941, 0.02352941, 0.02352941, 1.        ],\n",
              "         [0.00784314, 0.00784314, 0.00784314, 1.        ],\n",
              "         ...,\n",
              "         [0.01960784, 0.01960784, 0.01960784, 1.        ],\n",
              "         [0.01176471, 0.01176471, 0.01176471, 1.        ],\n",
              "         [0.01568627, 0.01568627, 0.01568627, 1.        ]],\n",
              "\n",
              "        [[0.01568627, 0.01568627, 0.01568627, 1.        ],\n",
              "         [0.01568627, 0.01568627, 0.01568627, 1.        ],\n",
              "         [0.00392157, 0.00392157, 0.00392157, 1.        ],\n",
              "         ...,\n",
              "         [0.01960784, 0.01960784, 0.01960784, 1.        ],\n",
              "         [0.00784314, 0.00784314, 0.00784314, 1.        ],\n",
              "         [0.01568627, 0.01568627, 0.01568627, 1.        ]],\n",
              "\n",
              "        ...,\n",
              "\n",
              "        [[0.01176471, 0.01176471, 0.01176471, 1.        ],\n",
              "         [0.00392157, 0.00392157, 0.00392157, 1.        ],\n",
              "         [0.00392157, 0.00392157, 0.00392157, 1.        ],\n",
              "         ...,\n",
              "         [0.00784314, 0.00784314, 0.00784314, 1.        ],\n",
              "         [0.00392157, 0.00392157, 0.00392157, 1.        ],\n",
              "         [0.00784314, 0.00784314, 0.00784314, 1.        ]],\n",
              "\n",
              "        [[0.04313725, 0.04313725, 0.04313725, 1.        ],\n",
              "         [0.01568627, 0.01568627, 0.01568627, 1.        ],\n",
              "         [0.00784314, 0.00784314, 0.00784314, 1.        ],\n",
              "         ...,\n",
              "         [0.00784314, 0.00784314, 0.00784314, 1.        ],\n",
              "         [0.01176471, 0.01176471, 0.01176471, 1.        ],\n",
              "         [0.01176471, 0.01176471, 0.01176471, 1.        ]],\n",
              "\n",
              "        [[0.02745098, 0.02745098, 0.02745098, 1.        ],\n",
              "         [0.01568627, 0.01568627, 0.01568627, 1.        ],\n",
              "         [0.01176471, 0.01176471, 0.01176471, 1.        ],\n",
              "         ...,\n",
              "         [0.00392157, 0.00392157, 0.00392157, 1.        ],\n",
              "         [0.01176471, 0.01176471, 0.01176471, 1.        ],\n",
              "         [0.00784314, 0.00784314, 0.00784314, 1.        ]]],\n",
              "\n",
              "\n",
              "       [[[0.03921569, 0.03921569, 0.03921569, 1.        ],\n",
              "         [0.04705882, 0.04705882, 0.04705882, 1.        ],\n",
              "         [0.07843137, 0.07843137, 0.07843137, 1.        ],\n",
              "         ...,\n",
              "         [0.00784314, 0.00784314, 0.00784314, 1.        ],\n",
              "         [0.00392157, 0.00392157, 0.00392157, 1.        ],\n",
              "         [0.00784314, 0.00784314, 0.00784314, 1.        ]],\n",
              "\n",
              "        [[0.03137255, 0.03137255, 0.03137255, 1.        ],\n",
              "         [0.04705882, 0.04705882, 0.04705882, 1.        ],\n",
              "         [0.08235294, 0.08235294, 0.08235294, 1.        ],\n",
              "         ...,\n",
              "         [0.02352941, 0.02352941, 0.02352941, 1.        ],\n",
              "         [0.01176471, 0.01176471, 0.01176471, 1.        ],\n",
              "         [0.01176471, 0.01176471, 0.01176471, 1.        ]],\n",
              "\n",
              "        [[0.01568627, 0.01568627, 0.01568627, 1.        ],\n",
              "         [0.01960784, 0.01960784, 0.01960784, 1.        ],\n",
              "         [0.04313725, 0.04313725, 0.04313725, 1.        ],\n",
              "         ...,\n",
              "         [0.03921569, 0.03921569, 0.03921569, 1.        ],\n",
              "         [0.02352941, 0.02352941, 0.02352941, 1.        ],\n",
              "         [0.01568627, 0.01568627, 0.01568627, 1.        ]],\n",
              "\n",
              "        ...,\n",
              "\n",
              "        [[0.02745098, 0.02745098, 0.02745098, 1.        ],\n",
              "         [0.01960784, 0.01960784, 0.01960784, 1.        ],\n",
              "         [0.01568627, 0.01568627, 0.01568627, 1.        ],\n",
              "         ...,\n",
              "         [0.01568627, 0.01568627, 0.01568627, 1.        ],\n",
              "         [0.00392157, 0.00392157, 0.00392157, 1.        ],\n",
              "         [0.00392157, 0.00392157, 0.00392157, 1.        ]],\n",
              "\n",
              "        [[0.01960784, 0.01960784, 0.01960784, 1.        ],\n",
              "         [0.00784314, 0.00784314, 0.00784314, 1.        ],\n",
              "         [0.00784314, 0.00784314, 0.00784314, 1.        ],\n",
              "         ...,\n",
              "         [0.01176471, 0.01176471, 0.01176471, 1.        ],\n",
              "         [0.        , 0.        , 0.        , 1.        ],\n",
              "         [0.        , 0.        , 0.        , 1.        ]],\n",
              "\n",
              "        [[0.00784314, 0.00784314, 0.00784314, 1.        ],\n",
              "         [0.00392157, 0.00392157, 0.00392157, 1.        ],\n",
              "         [0.00392157, 0.00392157, 0.00392157, 1.        ],\n",
              "         ...,\n",
              "         [0.00392157, 0.00392157, 0.00392157, 1.        ],\n",
              "         [0.        , 0.        , 0.        , 1.        ],\n",
              "         [0.        , 0.        , 0.        , 1.        ]]]])"
            ]
          },
          "metadata": {
            "tags": []
          },
          "execution_count": 59
        }
      ]
    },
    {
      "cell_type": "code",
      "metadata": {
        "id": "6z8OgjoNc-cu"
      },
      "source": [
        "#converting the arrays to float type\n",
        "labels = labels.astype(np.float32)\n",
        "#gray_images = im_arr.astype(np.float32)"
      ],
      "execution_count": 55,
      "outputs": []
    }
  ]
}